{
 "cells": [
  {
   "cell_type": "code",
   "execution_count": 1,
   "id": "a8da1169",
   "metadata": {},
   "outputs": [
    {
     "name": "stdout",
     "output_type": "stream",
     "text": [
      "Enter a number: 6\n",
      "6 is a perfect number.\n"
     ]
    }
   ],
   "source": [
    "#Perfect numbers\n",
    "def is_perfect_number(n):\n",
    "    if n <= 0:\n",
    "        return False\n",
    "    divisor_sum = 0\n",
    "    for i in range(1, n):\n",
    "        if n % i == 0:\n",
    "            divisor_sum += i\n",
    "    return divisor_sum == n\n",
    "\n",
    "def main():\n",
    "    try:\n",
    "        num = int(input(\"Enter a number: \"))\n",
    "        if is_perfect_number(num):\n",
    "            print(num, \"is a perfect number.\")\n",
    "        else:\n",
    "            print(num, \"is not a perfect number.\")\n",
    "    except ValueError:\n",
    "        print(\"Invalid input! Please enter a valid integer.\")\n",
    "main()"
   ]
  },
  {
   "cell_type": "code",
   "execution_count": 2,
   "id": "4924eef9",
   "metadata": {},
   "outputs": [
    {
     "name": "stdout",
     "output_type": "stream",
     "text": [
      "Enter a non-negative integer: 4\n",
      "Factorial of 4 is 24\n"
     ]
    }
   ],
   "source": [
    "#factorial\n",
    "def factorial(n):\n",
    "    if n == 0 or n == 1:\n",
    "        return 1\n",
    "    else:\n",
    "        \n",
    "        return n * factorial(n - 1)\n",
    "\n",
    "def main():\n",
    "    try:\n",
    "        num = int(input(\"Enter a non-negative integer: \"))\n",
    "        if num < 0:\n",
    "            print(\"Factorial is not defined for negative numbers.\")\n",
    "        else:\n",
    "            print(\"Factorial of\", num, \"is\", factorial(num))\n",
    "    except ValueError:\n",
    "        print(\"Invalid input! Please enter a valid non-negative integer.\")\n",
    "main()"
   ]
  },
  {
   "cell_type": "code",
   "execution_count": 4,
   "id": "f40404d9",
   "metadata": {},
   "outputs": [
    {
     "name": "stdout",
     "output_type": "stream",
     "text": [
      "Enter details for first matrix:\n",
      "Enter the number of rows: 2\n",
      "Enter the number of columns: 2\n",
      "Enter the elements of the matrix:\n",
      "Enter element [1,1]: 3\n",
      "Enter element [1,2]: 5\n",
      "Enter element [2,1]: 3\n",
      "Enter element [2,2]: 4\n",
      "\n",
      "Enter details for second matrix:\n",
      "Enter the number of rows: 2\n",
      "Enter the number of columns: 2\n",
      "Enter the elements of the matrix:\n",
      "Enter element [1,1]: 1\n",
      "Enter element [1,2]: 5\n",
      "Enter element [2,1]: 2\n",
      "Enter element [2,2]: 4\n",
      "\n",
      "The result of matrix multiplication:\n",
      "[13.0, 35.0]\n",
      "[11.0, 31.0]\n"
     ]
    }
   ],
   "source": [
    "#Matrix Multiplication\n",
    "def matrix_multiply(matrix1, matrix2):\n",
    "    result = [[0 for _ in range(len(matrix2[0]))] for _ in range(len(matrix1))]\n",
    "    \n",
    "    for i in range(len(matrix1)):\n",
    "        for j in range(len(matrix2[0])):\n",
    "            for k in range(len(matrix2)):\n",
    "                result[i][j] += matrix1[i][k] * matrix2[k][j]\n",
    "    \n",
    "    return result\n",
    "def input_matrix():\n",
    "    rows = int(input(\"Enter the number of rows: \"))\n",
    "    cols = int(input(\"Enter the number of columns: \"))\n",
    "    matrix = []\n",
    "\n",
    "    print(\"Enter the elements of the matrix:\")\n",
    "    for i in range(rows):\n",
    "        row = []\n",
    "        for j in range(cols):\n",
    "            element = float(input(f\"Enter element [{i+1},{j+1}]: \"))\n",
    "            row.append(element)\n",
    "        matrix.append(row)\n",
    "    \n",
    "    return matrix\n",
    "def main():\n",
    "    print(\"Enter details for first matrix:\")\n",
    "    matrix1 = input_matrix()\n",
    "\n",
    "    print(\"\\nEnter details for second matrix:\")\n",
    "    matrix2 = input_matrix()\n",
    "\n",
    "    if len(matrix1[0]) != len(matrix2):\n",
    "        print(\"Matrix multiplication not possible. Number of columns in the first matrix should be equal to the number of rows in the second matrix.\")\n",
    "    else:\n",
    "        result = matrix_multiply(matrix1, matrix2)\n",
    "        print(\"\\nThe result of matrix multiplication:\")\n",
    "        for row in result:\n",
    "            print(row)\n",
    "main()"
   ]
  },
  {
   "cell_type": "code",
   "execution_count": 7,
   "id": "3a5806c1",
   "metadata": {},
   "outputs": [
    {
     "name": "stdout",
     "output_type": "stream",
     "text": [
      "Enter the list of numbers separated by space: 2 3 4 5\n",
      "Enter the number to search: 4\n",
      "Target element 4 found at index 2.\n"
     ]
    }
   ],
   "source": [
    "#Linear search\n",
    "def linear_search(arr, target):\n",
    "    for i, num in enumerate(arr):\n",
    "        if num == target:\n",
    "            return i  \n",
    "    return -1  \n",
    "\n",
    "def main():\n",
    "    arr = [int(x) for x in input(\"Enter the list of numbers separated by space: \").split()]\n",
    "    target = int(input(\"Enter the number to search: \"))\n",
    "\n",
    "    index = linear_search(arr, target)\n",
    "\n",
    "    if index != -1:\n",
    "        print(f\"Target element {target} found at index {index}.\")\n",
    "    else:\n",
    "        print(f\"Target element {target} not found in the list.\")\n",
    "\n",
    "main()"
   ]
  },
  {
   "cell_type": "code",
   "execution_count": 1,
   "id": "287b81d0",
   "metadata": {},
   "outputs": [
    {
     "name": "stdout",
     "output_type": "stream",
     "text": [
      "Enter the sorted list of numbers separated by space: 2 4 6 4 7\n",
      "Enter the number to search: 4\n",
      "Target element 4 found at index 1.\n"
     ]
    }
   ],
   "source": [
    "#Binary search\n",
    "def binary_search(arr, target):\n",
    "    low = 0\n",
    "    high = len(arr) - 1\n",
    "\n",
    "    while low <= high:\n",
    "        mid = (low + high) // 2\n",
    "\n",
    "        if arr[mid] == target:\n",
    "            return mid \n",
    "        elif arr[mid] < target:\n",
    "            low = mid + 1\n",
    "        else:\n",
    "            high = mid - 1\n",
    "\n",
    "    return -1  \n",
    "\n",
    "def main():\n",
    "    arr = [int(x) for x in input(\"Enter the sorted list of numbers separated by space: \").split()]\n",
    "    target = int(input(\"Enter the number to search: \"))\n",
    "\n",
    "    index = binary_search(arr, target)\n",
    "\n",
    "    if index != -1:\n",
    "        print(f\"Target element {target} found at index {index}.\")\n",
    "    else:\n",
    "        print(f\"Target element {target} not found in the list.\")\n",
    "\n",
    "main()"
   ]
  },
  {
   "cell_type": "code",
   "execution_count": 2,
   "id": "5e286937",
   "metadata": {},
   "outputs": [
    {
     "name": "stdout",
     "output_type": "stream",
     "text": [
      "Enter the list of numbers separated by space: 1 4 5 3 \n",
      "Sorted list: [1, 3, 4, 5]\n"
     ]
    }
   ],
   "source": [
    "#Sorting a list\n",
    "def main():\n",
    "    elements = [int(x) for x in input(\"Enter the list of numbers separated by space: \").split()]\n",
    "    sorted_elements = sorted(elements)\n",
    "    print(\"Sorted list:\", sorted_elements)\n",
    "\n",
    "main()\n"
   ]
  },
  {
   "cell_type": "code",
   "execution_count": 3,
   "id": "8b01b4ff",
   "metadata": {},
   "outputs": [
    {
     "name": "stdout",
     "output_type": "stream",
     "text": [
      "Enter a year: 2024\n",
      "2024 is a leap year.\n"
     ]
    }
   ],
   "source": [
    "#Leap year\n",
    "def is_leap_year(year):\n",
    "    if (year % 4 == 0 and year % 100 != 0) or (year % 400 == 0):\n",
    "        return True\n",
    "    else:\n",
    "        return False\n",
    "\n",
    "def main():\n",
    "    try:\n",
    "       \n",
    "        year = int(input(\"Enter a year: \"))\n",
    "        if is_leap_year(year):\n",
    "            print(year, \"is a leap year.\")\n",
    "        else:\n",
    "            print(year, \"is not a leap year.\")\n",
    "    except ValueError:\n",
    "        print(\"Invalid input! Please enter a valid year.\")\n",
    "\n",
    "main()\n"
   ]
  },
  {
   "cell_type": "code",
   "execution_count": 4,
   "id": "84c4ecae",
   "metadata": {},
   "outputs": [
    {
     "name": "stdout",
     "output_type": "stream",
     "text": [
      "Enter a number: 6\n",
      "6 is not a happy number.\n"
     ]
    }
   ],
   "source": [
    "#happy number\n",
    "def is_happy_number(n):\n",
    "    seen = set()\n",
    "    while n != 1 and n not in seen:\n",
    "        seen.add(n)\n",
    "        n = sum(int(digit)**2 for digit in str(n))\n",
    "    return n == 1\n",
    "\n",
    "def main():\n",
    "    try:\n",
    "        num = int(input(\"Enter a number: \"))\n",
    "        if is_happy_number(num):\n",
    "            print(num, \"is a happy number.\")\n",
    "        else:\n",
    "            print(num, \"is not a happy number.\")\n",
    "    except ValueError:\n",
    "        print(\"Invalid input! Please enter a valid integer.\")\n",
    "\n",
    "main()\n"
   ]
  },
  {
   "cell_type": "code",
   "execution_count": null,
   "id": "14c0f9f8",
   "metadata": {},
   "outputs": [],
   "source": []
  }
 ],
 "metadata": {
  "kernelspec": {
   "display_name": "Python 3 (ipykernel)",
   "language": "python",
   "name": "python3"
  },
  "language_info": {
   "codemirror_mode": {
    "name": "ipython",
    "version": 3
   },
   "file_extension": ".py",
   "mimetype": "text/x-python",
   "name": "python",
   "nbconvert_exporter": "python",
   "pygments_lexer": "ipython3",
   "version": "3.11.5"
  }
 },
 "nbformat": 4,
 "nbformat_minor": 5
}
