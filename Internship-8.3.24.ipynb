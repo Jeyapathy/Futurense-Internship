{
 "cells": [
  {
   "cell_type": "code",
   "execution_count": 1,
   "id": "fd8014b6",
   "metadata": {},
   "outputs": [
    {
     "name": "stdout",
     "output_type": "stream",
     "text": [
      "Original tuple: (4, 3, 2, 2, -1, 18)\n",
      "Product - multiplying all the numbers of the said tuple: -864\n",
      "Original tuple: (2, 4, 8, 8, 3, 2, 9)\n",
      "Product - multiplying all the numbers of the said tuple: 27648\n"
     ]
    }
   ],
   "source": [
    "def calculate_product(tup):\n",
    "    result = 1\n",
    "    for num in tup:\n",
    "        result *= num\n",
    "    return result\n",
    "\n",
    "tup1 = (4, 3, 2, 2, -1, 18)\n",
    "tup2 = (2, 4, 8, 8, 3, 2, 9)\n",
    "\n",
    "print(\"Original tuple:\", tup1)\n",
    "print(\"Product - multiplying all the numbers of the said tuple:\", calculate_product(tup1))\n",
    "\n",
    "print(\"Original tuple:\", tup2)\n",
    "print(\"Product - multiplying all the numbers of the said tuple:\", calculate_product(tup2))\n"
   ]
  },
  {
   "cell_type": "code",
   "execution_count": 2,
   "id": "fef28a3b",
   "metadata": {},
   "outputs": [
    {
     "name": "stdout",
     "output_type": "stream",
     "text": [
      "Original Tuple: ((10, 10, 10, 12), (30, 45, 56, 45), (81, 80, 39, 32), (1, 2, 3, 4))\n",
      "Average value of the numbers of the said tuple of tuples: [30.5, 34.25, 27.0, 23.25]\n",
      "Original Tuple: ((1, 1, -5), (30, -15, 56), (81, -60, -39), (-10, 2, 3))\n",
      "Average value of the numbers of the said tuple of tuples: [25.5, -18.0, 3.75]\n"
     ]
    }
   ],
   "source": [
    "def calculate_average(tup):\n",
    "    sums = [sum(col) for col in zip(*tup)]\n",
    "    counts = [len(col) for col in zip(*tup)]\n",
    "    averages = [sum / count for sum, count in zip(sums, counts)]\n",
    "    return averages\n",
    "\n",
    "tup1 = ((10, 10, 10, 12), (30, 45, 56, 45), (81, 80, 39, 32), (1, 2, 3, 4))\n",
    "tup2 = ((1, 1, -5), (30, -15, 56), (81, -60, -39), (-10, 2, 3))\n",
    "\n",
    "print(\"Original Tuple:\", tup1)\n",
    "print(\"Average value of the numbers of the said tuple of tuples:\", calculate_average(tup1))\n",
    "\n",
    "print(\"Original Tuple:\", tup2)\n",
    "print(\"Average value of the numbers of the said tuple of tuples:\", calculate_average(tup2))\n"
   ]
  },
  {
   "cell_type": "code",
   "execution_count": null,
   "id": "a222a5ea",
   "metadata": {},
   "outputs": [],
   "source": []
  }
 ],
 "metadata": {
  "kernelspec": {
   "display_name": "Python 3 (ipykernel)",
   "language": "python",
   "name": "python3"
  },
  "language_info": {
   "codemirror_mode": {
    "name": "ipython",
    "version": 3
   },
   "file_extension": ".py",
   "mimetype": "text/x-python",
   "name": "python",
   "nbconvert_exporter": "python",
   "pygments_lexer": "ipython3",
   "version": "3.11.5"
  }
 },
 "nbformat": 4,
 "nbformat_minor": 5
}
